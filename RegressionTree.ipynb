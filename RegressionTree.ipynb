{
 "cells": [
  {
   "cell_type": "code",
   "execution_count": 1,
   "metadata": {},
   "outputs": [],
   "source": [
    "import pandas\n",
    "import numpy as np\n",
    "import matplotlib.pyplot as plt\n",
    "from sklearn import tree\n",
    "from sklearn.metrics import r2_score"
   ]
  },
  {
   "cell_type": "code",
   "execution_count": 2,
   "metadata": {},
   "outputs": [],
   "source": [
    "ENEM = pandas.read_pickle('enem_2016.pkl')"
   ]
  },
  {
   "cell_type": "code",
   "execution_count": 3,
   "metadata": {},
   "outputs": [],
   "source": [
    "#Agora não utilizaremos a nota da redacao\n",
    "ENEM = ENEM.drop(columns=['NU_NOTA_REDACAO'])"
   ]
  },
  {
   "cell_type": "code",
   "execution_count": 4,
   "metadata": {},
   "outputs": [],
   "source": [
    "#Utilizando 80% dos dados no treino e 20% no teste\n",
    "msk = np.random.rand(len(ENEM))<0.8\n",
    "train = ENEM[msk]\n",
    "teste = ENEM[~msk]"
   ]
  },
  {
   "cell_type": "code",
   "execution_count": 5,
   "metadata": {},
   "outputs": [
    {
     "name": "stdout",
     "output_type": "stream",
     "text": [
      "4676836\n",
      "1168131\n"
     ]
    }
   ],
   "source": [
    "print(len(train))\n",
    "print(len(teste))"
   ]
  },
  {
   "cell_type": "code",
   "execution_count": 6,
   "metadata": {},
   "outputs": [],
   "source": [
    "#O valor que queremos estimar está na coluna Q006: Renda mensal familiar\n",
    "Y_train = list(train['Q006'])\n",
    "X_train = train.drop(columns=['Q006']).get_values().tolist()"
   ]
  },
  {
   "cell_type": "code",
   "execution_count": 8,
   "metadata": {},
   "outputs": [],
   "source": [
    "#Com apenas uma árvore\n",
    "arvore_todos_os_parametros = tree.DecisionTreeRegressor()\n",
    "arvore_todos_os_parametros = arvore_todos_os_parametros.fit(X_train, Y_train)"
   ]
  },
  {
   "cell_type": "code",
   "execution_count": 9,
   "metadata": {},
   "outputs": [
    {
     "data": {
      "text/plain": [
       "0.3584165621384443"
      ]
     },
     "execution_count": 9,
     "metadata": {},
     "output_type": "execute_result"
    }
   ],
   "source": [
    "#Testando o modelo\n",
    "Y_teste = list(teste['Q006'])\n",
    "X_teste = teste.drop(columns=['Q006']).get_values().tolist()\n",
    "Y_predicao = arvore_todos_os_parametros.predict(X_teste)\n",
    "r2_score(Y_teste, Y_predicao)"
   ]
  },
  {
   "cell_type": "code",
   "execution_count": 16,
   "metadata": {},
   "outputs": [
    {
     "name": "stdout",
     "output_type": "stream",
     "text": [
      "Quantidade de pessoas em casa: 0.042519652868038715\n",
      "Empregada domestica: 0.12580401861163268\n",
      "Quantidade de banheiros: 0.37845283361829185\n",
      "Quantidade de quartos: 0.025237845370735746\n",
      "Quantidade de carros: 0.11258054186603196\n",
      "Quantidade de motos: 0.015025694848028945\n",
      "Quantidade de geladeiras: 0.01660561965538586\n",
      "Quantidade de freezer: 0.027718576315395267\n",
      "Quantidade de maquina de lavar roupa: 0.013216647979674355\n",
      "Quantidade de maquina de secar roupa: 0.018936206603774826\n",
      "Quantidade de micro-ondas: 0.014128151837660897\n",
      "Quantidade de maquina de lavar louça: 0.007684890348722401\n",
      "Aspirador de po: 0.010493812969031015\n",
      "Quantidade de televisões:0.03459444037230459\n",
      "DVD: 0.015006620974466924\n",
      "TV por assinatura: 0.026899617006989476\n",
      "Quantidade de celulares: 0.026768712515458228\n",
      "Telefone fixo: 0.010237280073966553\n",
      "Quantidade de computadores: 0.0738435472260805\n",
      "Acesso a internet: 0.004245288938329335\n"
     ]
    }
   ],
   "source": [
    "#Encontrando os coeficientes dos parametros\n",
    "feat = arvore_todos_os_parametros.feature_importances_\n",
    "print('Quantidade de pessoas em casa: '+str(feat[0]))\n",
    "print('Empregada domestica: '+str(feat[1]))\n",
    "print('Quantidade de banheiros: '+str(feat[2]))\n",
    "print('Quantidade de quartos: '+str(feat[3]))\n",
    "print('Quantidade de carros: '+str(feat[4]))\n",
    "print('Quantidade de motos: '+str(feat[5]))\n",
    "print('Quantidade de geladeiras: '+str(feat[6]))\n",
    "print('Quantidade de freezer: '+str(feat[7]))\n",
    "print('Quantidade de maquina de lavar roupa: '+str(feat[8]))\n",
    "print('Quantidade de maquina de secar roupa: '+str(feat[9]))\n",
    "print('Quantidade de micro-ondas: '+str(feat[10]))\n",
    "print('Quantidade de maquina de lavar louça: '+str(feat[11]))\n",
    "print('Aspirador de po: '+str(feat[12]))\n",
    "print('Quantidade de televisões:'+str(feat[13]))\n",
    "print('DVD: '+str(feat[14]))\n",
    "print('TV por assinatura: '+str(feat[15]))\n",
    "print('Quantidade de celulares: '+str(feat[16]))\n",
    "print('Telefone fixo: '+str(feat[17]))\n",
    "print('Quantidade de computadores: '+str(feat[18]))\n",
    "print('Acesso a internet: '+str(feat[19]))"
   ]
  },
  {
   "cell_type": "code",
   "execution_count": 12,
   "metadata": {},
   "outputs": [
    {
     "data": {
      "image/png": "[encoded data removed]",
      "text/plain": [
       "<matplotlib.figure.Figure at 0x1af8df3400>"
      ]
     },
     "metadata": {},
     "output_type": "display_data"
    }
   ],
   "source": [
    "plt.plot(feat)\n",
    "plt.show()"
   ]
  },
  {
   "cell_type": "code",
   "execution_count": 24,
   "metadata": {},
   "outputs": [
    {
     "data": {
      "text/plain": [
       "array([0.37845283, 0.12580402, 0.11258054, 0.07384355, 0.04251965])"
      ]
     },
     "execution_count": 24,
     "metadata": {},
     "output_type": "execute_result"
    }
   ],
   "source": [
    "feat.sort()\n",
    "feat[::-1][0:5]"
   ]
  },
  {
   "cell_type": "code",
   "execution_count": 30,
   "metadata": {},
   "outputs": [],
   "source": [
    "#Parametros mais significativos: Q008, Q007, Q010, Q024, Q005\n",
    "#Q008: Quantidade de banheiros\n",
    "#Q007: Empregada domestica\n",
    "#Q010: Quantidade de carros\n",
    "#Q024: Quantidade de computadores\n",
    "#Q005: Quantidade de pessoas na casa \n",
    "ENEM_filtrado = ENEM[['Q006', 'Q008', 'Q007', 'Q010', 'Q024', 'Q005']]\n",
    "mskf = np.random.rand(len(ENEM_filtrado))<0.8\n",
    "trainf = ENEM_filtrado[msk]\n",
    "testef = ENEM_filtrado[~msk]\n",
    "Y_trainf = list(trainf['Q006'])\n",
    "X_trainf = trainf.drop(columns=['Q006']).get_values().tolist()"
   ]
  },
  {
   "cell_type": "code",
   "execution_count": 34,
   "metadata": {},
   "outputs": [],
   "source": [
    "arvore_parametros_filtrados = tree.DecisionTreeRegressor()\n",
    "arvore_parametros_filtrados = arvore_parametros_filtrados.fit(X_trainf, Y_trainf)"
   ]
  },
  {
   "cell_type": "code",
   "execution_count": 35,
   "metadata": {},
   "outputs": [
    {
     "data": {
      "text/plain": [
       "0.5618052778517717"
      ]
     },
     "execution_count": 35,
     "metadata": {},
     "output_type": "execute_result"
    }
   ],
   "source": [
    "#Testando o modelo\n",
    "Y_testef = list(testef['Q006'])\n",
    "X_testef = testef.drop(columns=['Q006']).get_values().tolist()\n",
    "Y_predicaof = arvore_parametros_filtrados.predict(X_testef)\n",
    "r2_score(Y_testef, Y_predicaof)"
   ]
  },
  {
   "cell_type": "code",
   "execution_count": null,
   "metadata": {},
   "outputs": [],
   "source": []
  }
 ],
 "metadata": {
  "kernelspec": {
   "display_name": "Python 3",
   "language": "python",
   "name": "python3"
  },
  "language_info": {
   "codemirror_mode": {
    "name": "ipython",
    "version": 3
   },
   "file_extension": ".py",
   "mimetype": "text/x-python",
   "name": "python",
   "nbconvert_exporter": "python",
   "pygments_lexer": "ipython3",
   "version": "3.6.4"
  }
 },
 "nbformat": 4,
 "nbformat_minor": 2
}
