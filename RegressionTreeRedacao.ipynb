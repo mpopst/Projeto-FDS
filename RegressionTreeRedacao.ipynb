{
 "cells": [
  {
   "cell_type": "code",
   "execution_count": 1,
   "metadata": {},
   "outputs": [],
   "source": [
    "import pandas\n",
    "import numpy as np\n",
    "import matplotlib.pyplot as plt\n",
    "from sklearn import tree\n",
    "from sklearn.metrics import r2_score"
   ]
  },
  {
   "cell_type": "code",
   "execution_count": 13,
   "metadata": {},
   "outputs": [],
   "source": [
    "ENEM = pandas.read_pickle('enem_2016.pkl')"
   ]
  },
  {
   "cell_type": "code",
   "execution_count": 14,
   "metadata": {},
   "outputs": [],
   "source": [
    "#Utilizando 80% dos dados no treino e 20% no teste\n",
    "msk = np.random.rand(len(ENEM))<0.8\n",
    "train = ENEM[msk]\n",
    "teste = ENEM[~msk]"
   ]
  },
  {
   "cell_type": "code",
   "execution_count": 15,
   "metadata": {},
   "outputs": [
    {
     "name": "stdout",
     "output_type": "stream",
     "text": [
      "4675730\n",
      "1169237\n"
     ]
    }
   ],
   "source": [
    "print(len(train))\n",
    "print(len(teste))"
   ]
  },
  {
   "cell_type": "code",
   "execution_count": 16,
   "metadata": {},
   "outputs": [],
   "source": [
    "#O valor que queremos estimar está na coluna Q006: Renda mensal familiar\n",
    "Y_train = list(train['NU_NOTA_REDACAO'])\n",
    "X_train = train.drop(columns=['NU_NOTA_REDACAO']).get_values().tolist()"
   ]
  },
  {
   "cell_type": "code",
   "execution_count": 17,
   "metadata": {},
   "outputs": [
    {
     "data": {
      "text/html": [
       "<div>\n",
       "<style scoped>\n",
       "    .dataframe tbody tr th:only-of-type {\n",
       "        vertical-align: middle;\n",
       "    }\n",
       "\n",
       "    .dataframe tbody tr th {\n",
       "        vertical-align: top;\n",
       "    }\n",
       "\n",
       "    .dataframe thead th {\n",
       "        text-align: right;\n",
       "    }\n",
       "</style>\n",
       "<table border=\"1\" class=\"dataframe\">\n",
       "  <thead>\n",
       "    <tr style=\"text-align: right;\">\n",
       "      <th></th>\n",
       "      <th>NU_NOTA_REDACAO</th>\n",
       "      <th>Q005</th>\n",
       "      <th>Q006</th>\n",
       "      <th>Q007</th>\n",
       "      <th>Q008</th>\n",
       "      <th>Q009</th>\n",
       "      <th>Q010</th>\n",
       "      <th>Q011</th>\n",
       "      <th>Q012</th>\n",
       "      <th>Q013</th>\n",
       "      <th>...</th>\n",
       "      <th>Q016</th>\n",
       "      <th>Q017</th>\n",
       "      <th>Q018</th>\n",
       "      <th>Q019</th>\n",
       "      <th>Q020</th>\n",
       "      <th>Q021</th>\n",
       "      <th>Q022</th>\n",
       "      <th>Q023</th>\n",
       "      <th>Q024</th>\n",
       "      <th>Q025</th>\n",
       "    </tr>\n",
       "  </thead>\n",
       "  <tbody>\n",
       "    <tr>\n",
       "      <th>count</th>\n",
       "      <td>4.675730e+06</td>\n",
       "      <td>4.675730e+06</td>\n",
       "      <td>4.675730e+06</td>\n",
       "      <td>4.675730e+06</td>\n",
       "      <td>4.675730e+06</td>\n",
       "      <td>4.675730e+06</td>\n",
       "      <td>4.675730e+06</td>\n",
       "      <td>4.675730e+06</td>\n",
       "      <td>4.675730e+06</td>\n",
       "      <td>4.675730e+06</td>\n",
       "      <td>...</td>\n",
       "      <td>4.675730e+06</td>\n",
       "      <td>4.675730e+06</td>\n",
       "      <td>4.675730e+06</td>\n",
       "      <td>4.675730e+06</td>\n",
       "      <td>4.675730e+06</td>\n",
       "      <td>4.675730e+06</td>\n",
       "      <td>4.675730e+06</td>\n",
       "      <td>4.675730e+06</td>\n",
       "      <td>4.675730e+06</td>\n",
       "      <td>4.675730e+06</td>\n",
       "    </tr>\n",
       "    <tr>\n",
       "      <th>mean</th>\n",
       "      <td>5.299676e+02</td>\n",
       "      <td>4.017182e+00</td>\n",
       "      <td>2.452620e+03</td>\n",
       "      <td>1.911782e-01</td>\n",
       "      <td>1.351864e+00</td>\n",
       "      <td>2.246479e+00</td>\n",
       "      <td>5.173325e-01</td>\n",
       "      <td>2.527560e-01</td>\n",
       "      <td>1.025393e+00</td>\n",
       "      <td>3.413711e-01</td>\n",
       "      <td>...</td>\n",
       "      <td>5.207585e-01</td>\n",
       "      <td>2.712090e-02</td>\n",
       "      <td>1.769670e-01</td>\n",
       "      <td>1.387464e+00</td>\n",
       "      <td>5.515836e-01</td>\n",
       "      <td>2.551398e-01</td>\n",
       "      <td>2.358768e+00</td>\n",
       "      <td>3.769161e-01</td>\n",
       "      <td>8.089704e-01</td>\n",
       "      <td>6.635009e-01</td>\n",
       "    </tr>\n",
       "    <tr>\n",
       "      <th>std</th>\n",
       "      <td>1.540164e+02</td>\n",
       "      <td>1.558134e+00</td>\n",
       "      <td>2.939904e+03</td>\n",
       "      <td>8.343164e-01</td>\n",
       "      <td>6.942067e-01</td>\n",
       "      <td>7.840283e-01</td>\n",
       "      <td>6.897565e-01</td>\n",
       "      <td>4.989040e-01</td>\n",
       "      <td>2.603287e-01</td>\n",
       "      <td>5.303562e-01</td>\n",
       "      <td>...</td>\n",
       "      <td>5.126949e-01</td>\n",
       "      <td>1.769969e-01</td>\n",
       "      <td>3.816408e-01</td>\n",
       "      <td>7.670880e-01</td>\n",
       "      <td>4.973321e-01</td>\n",
       "      <td>4.359398e-01</td>\n",
       "      <td>1.077654e+00</td>\n",
       "      <td>4.846137e-01</td>\n",
       "      <td>7.782887e-01</td>\n",
       "      <td>4.725119e-01</td>\n",
       "    </tr>\n",
       "    <tr>\n",
       "      <th>min</th>\n",
       "      <td>0.000000e+00</td>\n",
       "      <td>1.000000e+00</td>\n",
       "      <td>0.000000e+00</td>\n",
       "      <td>0.000000e+00</td>\n",
       "      <td>0.000000e+00</td>\n",
       "      <td>0.000000e+00</td>\n",
       "      <td>0.000000e+00</td>\n",
       "      <td>0.000000e+00</td>\n",
       "      <td>0.000000e+00</td>\n",
       "      <td>0.000000e+00</td>\n",
       "      <td>...</td>\n",
       "      <td>0.000000e+00</td>\n",
       "      <td>0.000000e+00</td>\n",
       "      <td>0.000000e+00</td>\n",
       "      <td>0.000000e+00</td>\n",
       "      <td>0.000000e+00</td>\n",
       "      <td>0.000000e+00</td>\n",
       "      <td>0.000000e+00</td>\n",
       "      <td>0.000000e+00</td>\n",
       "      <td>0.000000e+00</td>\n",
       "      <td>0.000000e+00</td>\n",
       "    </tr>\n",
       "    <tr>\n",
       "      <th>25%</th>\n",
       "      <td>4.400000e+02</td>\n",
       "      <td>3.000000e+00</td>\n",
       "      <td>8.800000e+02</td>\n",
       "      <td>0.000000e+00</td>\n",
       "      <td>1.000000e+00</td>\n",
       "      <td>2.000000e+00</td>\n",
       "      <td>0.000000e+00</td>\n",
       "      <td>0.000000e+00</td>\n",
       "      <td>1.000000e+00</td>\n",
       "      <td>0.000000e+00</td>\n",
       "      <td>...</td>\n",
       "      <td>0.000000e+00</td>\n",
       "      <td>0.000000e+00</td>\n",
       "      <td>0.000000e+00</td>\n",
       "      <td>1.000000e+00</td>\n",
       "      <td>0.000000e+00</td>\n",
       "      <td>0.000000e+00</td>\n",
       "      <td>2.000000e+00</td>\n",
       "      <td>0.000000e+00</td>\n",
       "      <td>0.000000e+00</td>\n",
       "      <td>0.000000e+00</td>\n",
       "    </tr>\n",
       "    <tr>\n",
       "      <th>50%</th>\n",
       "      <td>5.400000e+02</td>\n",
       "      <td>4.000000e+00</td>\n",
       "      <td>1.320000e+03</td>\n",
       "      <td>0.000000e+00</td>\n",
       "      <td>1.000000e+00</td>\n",
       "      <td>2.000000e+00</td>\n",
       "      <td>0.000000e+00</td>\n",
       "      <td>0.000000e+00</td>\n",
       "      <td>1.000000e+00</td>\n",
       "      <td>0.000000e+00</td>\n",
       "      <td>...</td>\n",
       "      <td>1.000000e+00</td>\n",
       "      <td>0.000000e+00</td>\n",
       "      <td>0.000000e+00</td>\n",
       "      <td>1.000000e+00</td>\n",
       "      <td>1.000000e+00</td>\n",
       "      <td>0.000000e+00</td>\n",
       "      <td>2.000000e+00</td>\n",
       "      <td>0.000000e+00</td>\n",
       "      <td>1.000000e+00</td>\n",
       "      <td>1.000000e+00</td>\n",
       "    </tr>\n",
       "    <tr>\n",
       "      <th>75%</th>\n",
       "      <td>6.000000e+02</td>\n",
       "      <td>5.000000e+00</td>\n",
       "      <td>2.640000e+03</td>\n",
       "      <td>0.000000e+00</td>\n",
       "      <td>2.000000e+00</td>\n",
       "      <td>3.000000e+00</td>\n",
       "      <td>1.000000e+00</td>\n",
       "      <td>0.000000e+00</td>\n",
       "      <td>1.000000e+00</td>\n",
       "      <td>1.000000e+00</td>\n",
       "      <td>...</td>\n",
       "      <td>1.000000e+00</td>\n",
       "      <td>0.000000e+00</td>\n",
       "      <td>0.000000e+00</td>\n",
       "      <td>2.000000e+00</td>\n",
       "      <td>1.000000e+00</td>\n",
       "      <td>1.000000e+00</td>\n",
       "      <td>3.000000e+00</td>\n",
       "      <td>1.000000e+00</td>\n",
       "      <td>1.000000e+00</td>\n",
       "      <td>1.000000e+00</td>\n",
       "    </tr>\n",
       "    <tr>\n",
       "      <th>max</th>\n",
       "      <td>1.000000e+03</td>\n",
       "      <td>2.000000e+01</td>\n",
       "      <td>2.000000e+04</td>\n",
       "      <td>5.000000e+00</td>\n",
       "      <td>4.000000e+00</td>\n",
       "      <td>4.000000e+00</td>\n",
       "      <td>4.000000e+00</td>\n",
       "      <td>4.000000e+00</td>\n",
       "      <td>4.000000e+00</td>\n",
       "      <td>4.000000e+00</td>\n",
       "      <td>...</td>\n",
       "      <td>4.000000e+00</td>\n",
       "      <td>4.000000e+00</td>\n",
       "      <td>1.000000e+00</td>\n",
       "      <td>4.000000e+00</td>\n",
       "      <td>1.000000e+00</td>\n",
       "      <td>1.000000e+00</td>\n",
       "      <td>4.000000e+00</td>\n",
       "      <td>1.000000e+00</td>\n",
       "      <td>4.000000e+00</td>\n",
       "      <td>1.000000e+00</td>\n",
       "    </tr>\n",
       "  </tbody>\n",
       "</table>\n",
       "<p>8 rows × 22 columns</p>\n",
       "</div>"
      ],
      "text/plain": [
       "       NU_NOTA_REDACAO          Q005          Q006          Q007  \\\n",
       "count     4.675730e+06  4.675730e+06  4.675730e+06  4.675730e+06   \n",
       "mean      5.299676e+02  4.017182e+00  2.452620e+03  1.911782e-01   \n",
       "std       1.540164e+02  1.558134e+00  2.939904e+03  8.343164e-01   \n",
       "min       0.000000e+00  1.000000e+00  0.000000e+00  0.000000e+00   \n",
       "25%       4.400000e+02  3.000000e+00  8.800000e+02  0.000000e+00   \n",
       "50%       5.400000e+02  4.000000e+00  1.320000e+03  0.000000e+00   \n",
       "75%       6.000000e+02  5.000000e+00  2.640000e+03  0.000000e+00   \n",
       "max       1.000000e+03  2.000000e+01  2.000000e+04  5.000000e+00   \n",
       "\n",
       "               Q008          Q009          Q010          Q011          Q012  \\\n",
       "count  4.675730e+06  4.675730e+06  4.675730e+06  4.675730e+06  4.675730e+06   \n",
       "mean   1.351864e+00  2.246479e+00  5.173325e-01  2.527560e-01  1.025393e+00   \n",
       "std    6.942067e-01  7.840283e-01  6.897565e-01  4.989040e-01  2.603287e-01   \n",
       "min    0.000000e+00  0.000000e+00  0.000000e+00  0.000000e+00  0.000000e+00   \n",
       "25%    1.000000e+00  2.000000e+00  0.000000e+00  0.000000e+00  1.000000e+00   \n",
       "50%    1.000000e+00  2.000000e+00  0.000000e+00  0.000000e+00  1.000000e+00   \n",
       "75%    2.000000e+00  3.000000e+00  1.000000e+00  0.000000e+00  1.000000e+00   \n",
       "max    4.000000e+00  4.000000e+00  4.000000e+00  4.000000e+00  4.000000e+00   \n",
       "\n",
       "               Q013      ...               Q016          Q017          Q018  \\\n",
       "count  4.675730e+06      ...       4.675730e+06  4.675730e+06  4.675730e+06   \n",
       "mean   3.413711e-01      ...       5.207585e-01  2.712090e-02  1.769670e-01   \n",
       "std    5.303562e-01      ...       5.126949e-01  1.769969e-01  3.816408e-01   \n",
       "min    0.000000e+00      ...       0.000000e+00  0.000000e+00  0.000000e+00   \n",
       "25%    0.000000e+00      ...       0.000000e+00  0.000000e+00  0.000000e+00   \n",
       "50%    0.000000e+00      ...       1.000000e+00  0.000000e+00  0.000000e+00   \n",
       "75%    1.000000e+00      ...       1.000000e+00  0.000000e+00  0.000000e+00   \n",
       "max    4.000000e+00      ...       4.000000e+00  4.000000e+00  1.000000e+00   \n",
       "\n",
       "               Q019          Q020          Q021          Q022          Q023  \\\n",
       "count  4.675730e+06  4.675730e+06  4.675730e+06  4.675730e+06  4.675730e+06   \n",
       "mean   1.387464e+00  5.515836e-01  2.551398e-01  2.358768e+00  3.769161e-01   \n",
       "std    7.670880e-01  4.973321e-01  4.359398e-01  1.077654e+00  4.846137e-01   \n",
       "min    0.000000e+00  0.000000e+00  0.000000e+00  0.000000e+00  0.000000e+00   \n",
       "25%    1.000000e+00  0.000000e+00  0.000000e+00  2.000000e+00  0.000000e+00   \n",
       "50%    1.000000e+00  1.000000e+00  0.000000e+00  2.000000e+00  0.000000e+00   \n",
       "75%    2.000000e+00  1.000000e+00  1.000000e+00  3.000000e+00  1.000000e+00   \n",
       "max    4.000000e+00  1.000000e+00  1.000000e+00  4.000000e+00  1.000000e+00   \n",
       "\n",
       "               Q024          Q025  \n",
       "count  4.675730e+06  4.675730e+06  \n",
       "mean   8.089704e-01  6.635009e-01  \n",
       "std    7.782887e-01  4.725119e-01  \n",
       "min    0.000000e+00  0.000000e+00  \n",
       "25%    0.000000e+00  0.000000e+00  \n",
       "50%    1.000000e+00  1.000000e+00  \n",
       "75%    1.000000e+00  1.000000e+00  \n",
       "max    4.000000e+00  1.000000e+00  \n",
       "\n",
       "[8 rows x 22 columns]"
      ]
     },
     "execution_count": 17,
     "metadata": {},
     "output_type": "execute_result"
    }
   ],
   "source": [
    "train.describe()"
   ]
  },
  {
   "cell_type": "code",
   "execution_count": 18,
   "metadata": {},
   "outputs": [],
   "source": [
    "#Com apenas uma árvore\n",
    "arvore_todos_os_parametros = tree.DecisionTreeRegressor()\n",
    "arvore_todos_os_parametros = arvore_todos_os_parametros.fit(X_train, Y_train)"
   ]
  },
  {
   "cell_type": "code",
   "execution_count": 19,
   "metadata": {},
   "outputs": [
    {
     "data": {
      "text/plain": [
       "-0.29864160373902093"
      ]
     },
     "execution_count": 19,
     "metadata": {},
     "output_type": "execute_result"
    }
   ],
   "source": [
    "#Testando o modelo\n",
    "Y_teste = list(teste['NU_NOTA_REDACAO'])\n",
    "X_teste = teste.drop(columns=['NU_NOTA_REDACAO']).get_values().tolist()\n",
    "Y_predicao = arvore_todos_os_parametros.predict(X_teste)\n",
    "r2_score(Y_teste, Y_predicao)"
   ]
  },
  {
   "cell_type": "code",
   "execution_count": 20,
   "metadata": {},
   "outputs": [
    {
     "name": "stdout",
     "output_type": "stream",
     "text": [
      "Quantidade de pessoas em casa: 0.06172347086939113\n",
      "Empregada domestica: 0.21107655703935832\n",
      "Quantidade de banheiros: 0.01867648503953413\n",
      "Quantidade de quartos: 0.030638748397215566\n",
      "Quantidade de carros: 0.0750399250271209\n",
      "Quantidade de motos: 0.0651547863026242\n",
      "Quantidade de geladeiras: 0.015691927746338413\n",
      "Quantidade de freezer: 0.020487389136213768\n",
      "Quantidade de maquina de lavar roupa: 0.0329592442355771\n",
      "Quantidade de maquina de secar roupa: 0.025997835646622912\n",
      "Quantidade de micro-ondas: 0.020281398668872123\n",
      "Quantidade de maquina de lavar louça: 0.04417450747829296\n",
      "Aspirador de po: 0.014249758378377247\n",
      "Quantidade de televisões:0.03430097817546925\n",
      "DVD: 0.07513777304565751\n",
      "TV por assinatura: 0.04091228097962761\n",
      "Quantidade de celulares: 0.04179968382206578\n",
      "Telefone fixo: 0.06165532391586869\n",
      "Quantidade de computadores: 0.03656019088219421\n",
      "Acesso a internet: 0.061140095406053835\n"
     ]
    }
   ],
   "source": [
    "#Encontrando os coeficientes dos parametros\n",
    "feat = arvore_todos_os_parametros.feature_importances_\n",
    "print('Quantidade de pessoas em casa: '+str(feat[0]))\n",
    "print('Empregada domestica: '+str(feat[1]))\n",
    "print('Quantidade de banheiros: '+str(feat[2]))\n",
    "print('Quantidade de quartos: '+str(feat[3]))\n",
    "print('Quantidade de carros: '+str(feat[4]))\n",
    "print('Quantidade de motos: '+str(feat[5]))\n",
    "print('Quantidade de geladeiras: '+str(feat[6]))\n",
    "print('Quantidade de freezer: '+str(feat[7]))\n",
    "print('Quantidade de maquina de lavar roupa: '+str(feat[8]))\n",
    "print('Quantidade de maquina de secar roupa: '+str(feat[9]))\n",
    "print('Quantidade de micro-ondas: '+str(feat[10]))\n",
    "print('Quantidade de maquina de lavar louça: '+str(feat[11]))\n",
    "print('Aspirador de po: '+str(feat[12]))\n",
    "print('Quantidade de televisões:'+str(feat[13]))\n",
    "print('DVD: '+str(feat[14]))\n",
    "print('TV por assinatura: '+str(feat[15]))\n",
    "print('Quantidade de celulares: '+str(feat[16]))\n",
    "print('Telefone fixo: '+str(feat[17]))\n",
    "print('Quantidade de computadores: '+str(feat[18]))\n",
    "print('Acesso a internet: '+str(feat[19]))"
   ]
  },
  {
   "cell_type": "code",
   "execution_count": 21,
   "metadata": {},
   "outputs": [
    {
     "data": {
      "image/png": "[encoded data removed]",
      "text/plain": [
       "<matplotlib.figure.Figure at 0x1a1ad11828>"
      ]
     },
     "metadata": {},
     "output_type": "display_data"
    }
   ],
   "source": [
    "plt.plot(feat)\n",
    "plt.show()"
   ]
  },
  {
   "cell_type": "code",
   "execution_count": 24,
   "metadata": {},
   "outputs": [
    {
     "data": {
      "text/plain": [
       "array([0.37845283, 0.12580402, 0.11258054, 0.07384355, 0.04251965])"
      ]
     },
     "execution_count": 24,
     "metadata": {},
     "output_type": "execute_result"
    }
   ],
   "source": [
    "feat.sort()\n",
    "feat[::-1][0:5]"
   ]
  },
  {
   "cell_type": "code",
   "execution_count": 30,
   "metadata": {},
   "outputs": [],
   "source": [
    "#Parametros mais significativos: Q008, Q007, Q010, Q024, Q005\n",
    "#Q008: Quantidade de banheiros\n",
    "#Q007: Empregada domestica\n",
    "#Q010: Quantidade de carros\n",
    "#Q024: Quantidade de computadores\n",
    "#Q005: Quantidade de pessoas na casa \n",
    "ENEM_filtrado = ENEM[['Q006', 'Q008', 'Q007', 'Q010', 'Q024', 'Q005']]\n",
    "mskf = np.random.rand(len(ENEM_filtrado))<0.8\n",
    "trainf = ENEM_filtrado[msk]\n",
    "testef = ENEM_filtrado[~msk]\n",
    "Y_trainf = list(trainf['Q006'])\n",
    "X_trainf = trainf.drop(columns=['Q006']).get_values().tolist()"
   ]
  },
  {
   "cell_type": "code",
   "execution_count": 34,
   "metadata": {},
   "outputs": [],
   "source": [
    "arvore_parametros_filtrados = tree.DecisionTreeRegressor()\n",
    "arvore_parametros_filtrados = arvore_parametros_filtrados.fit(X_trainf, Y_trainf)"
   ]
  },
  {
   "cell_type": "code",
   "execution_count": 35,
   "metadata": {},
   "outputs": [
    {
     "data": {
      "text/plain": [
       "0.5618052778517717"
      ]
     },
     "execution_count": 35,
     "metadata": {},
     "output_type": "execute_result"
    }
   ],
   "source": [
    "#Testando o modelo\n",
    "Y_testef = list(testef['Q006'])\n",
    "X_testef = testef.drop(columns=['Q006']).get_values().tolist()\n",
    "Y_predicaof = arvore_parametros_filtrados.predict(X_testef)\n",
    "r2_score(Y_testef, Y_predicaof)"
   ]
  },
  {
   "cell_type": "code",
   "execution_count": 39,
   "metadata": {},
   "outputs": [
    {
     "name": "stdout",
     "output_type": "stream",
     "text": [
      "Quantidade de banheiros: 0.5505664252793427\n",
      "Empregada domestica: 0.1752234137443688\n",
      "Quantidade de carros: 0.1545158310463282\n",
      "Quantidade de computadores: 0.11027768050169975\n",
      "Quantidade de pessoas na casa: 0.009416649428260598\n"
     ]
    }
   ],
   "source": [
    "featf = arvore_parametros_filtrados.feature_importances_\n",
    "print('Quantidade de banheiros: '+str(featf[0]))\n",
    "print('Empregada domestica: '+str(featf[1]))\n",
    "print('Quantidade de carros: '+str(featf[2]))\n",
    "print('Quantidade de computadores: '+str(featf[3]))\n",
    "print('Quantidade de pessoas na casa: '+str(featf[4]))"
   ]
  },
  {
   "cell_type": "code",
   "execution_count": 42,
   "metadata": {},
   "outputs": [
    {
     "data": {
      "image/png": "[encoded data removed]",
      "text/plain": [
       "<matplotlib.figure.Figure at 0x1af8e11a20>"
      ]
     },
     "metadata": {},
     "output_type": "display_data"
    }
   ],
   "source": [
    "plt.plot(featf)\n",
    "plt.show()"
   ]
  },
  {
   "cell_type": "code",
   "execution_count": null,
   "metadata": {},
   "outputs": [],
   "source": []
  }
 ],
 "metadata": {
  "kernelspec": {
   "display_name": "Python 3",
   "language": "python",
   "name": "python3"
  },
  "language_info": {
   "codemirror_mode": {
    "name": "ipython",
    "version": 3
   },
   "file_extension": ".py",
   "mimetype": "text/x-python",
   "name": "python",
   "nbconvert_exporter": "python",
   "pygments_lexer": "ipython3",
   "version": "3.6.4"
  }
 },
 "nbformat": 4,
 "nbformat_minor": 2
}
