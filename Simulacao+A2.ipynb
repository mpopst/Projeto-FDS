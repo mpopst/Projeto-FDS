{
 "cells": [
  {
   "cell_type": "code",
   "execution_count": 6,
   "metadata": {
    "collapsed": true
   },
   "outputs": [],
   "source": [
    "import random\n",
    "import numpy as np"
   ]
  },
  {
   "cell_type": "code",
   "execution_count": 332,
   "metadata": {},
   "outputs": [],
   "source": [
    "f = 0.55\n",
    "c = -0.12\n",
    "m = 7.5\n",
    "lamb = 10 #minutos"
   ]
  },
  {
   "cell_type": "code",
   "execution_count": 354,
   "metadata": {},
   "outputs": [],
   "source": [
    "def cliente_espera(f, c, m):\n",
    "    rand = random.random()\n",
    "    if rand < f:\n",
    "        x1 = random.random()\n",
    "        return (-(0.25 -4*c) + ((0.25-4*c)**2 -2*c*(6*c -0.5 - x1))**0.5)/c\n",
    "    else:\n",
    "        return random.expovariate(1/m)"
   ]
  },
  {
   "cell_type": "code",
   "execution_count": 355,
   "metadata": {},
   "outputs": [
    {
     "data": {
      "text/plain": [
       "5.2229998845"
      ]
     },
     "execution_count": 355,
     "metadata": {},
     "output_type": "execute_result"
    }
   ],
   "source": [
    "#EX teórico\n",
    "f*(5.333333*(c+0.75)) + (1-f)*m"
   ]
  },
  {
   "cell_type": "code",
   "execution_count": 356,
   "metadata": {},
   "outputs": [
    {
     "data": {
      "text/plain": [
       "5.2365068179208922"
      ]
     },
     "execution_count": 356,
     "metadata": {},
     "output_type": "execute_result"
    }
   ],
   "source": [
    "np.average([cliente_espera(f,c,m) for i in range(100000)])"
   ]
  },
  {
   "cell_type": "code",
   "execution_count": 369,
   "metadata": {},
   "outputs": [
    {
     "data": {
      "text/plain": [
       "3.416144647113175"
      ]
     },
     "execution_count": 369,
     "metadata": {},
     "output_type": "execute_result"
    }
   ],
   "source": [
    "#StD X teórico\n",
    "((f**2) * (-(16*c/3 + 4)**2 + 128*c/3 + 17.3333) + ((1-f)**2) * m**2)**0.5"
   ]
  },
  {
   "cell_type": "code",
   "execution_count": 370,
   "metadata": {},
   "outputs": [
    {
     "data": {
      "text/plain": [
       "5.4624848212013086"
      ]
     },
     "execution_count": 370,
     "metadata": {},
     "output_type": "execute_result"
    }
   ],
   "source": [
    "(np.var([cliente_espera(f,c,m) for i in range(100000)]))**0.5"
   ]
  },
  {
   "cell_type": "code",
   "execution_count": 361,
   "metadata": {
    "collapsed": true
   },
   "outputs": [],
   "source": [
    "A = [cliente_espera(f,c,m) for i in range(100000)]"
   ]
  },
  {
   "cell_type": "markdown",
   "metadata": {},
   "source": [
    "## Letra b"
   ]
  },
  {
   "cell_type": "code",
   "execution_count": 337,
   "metadata": {
    "collapsed": true
   },
   "outputs": [],
   "source": [
    "def dia_de_trabalho(f,c,m, lambd):\n",
    "    FILA = []\n",
    "    TODOS = []\n",
    "    prox_evento = np.random.exponential(lamb)\n",
    "    for i in range(60*12):\n",
    "        if len(FILA) > 0:\n",
    "            if FILA[0] > 0:\n",
    "                FILA[0] += -1\n",
    "            else:\n",
    "                FILA.pop(0)\n",
    "            for i in range(-len(FILA),-1):\n",
    "                TODOS[-1] += 1\n",
    "        if prox_evento < 0:\n",
    "            FILA.append(cliente_espera(f,c,m))\n",
    "            prox_evento = np.random.exponential(lamb)\n",
    "            TODOS.append(0)\n",
    "        else:\n",
    "            prox_evento += -1\n",
    "    return sum([1 for i in TODOS if i>300])/len(TODOS)"
   ]
  },
  {
   "cell_type": "code",
   "execution_count": 338,
   "metadata": {
    "scrolled": true
   },
   "outputs": [
    {
     "data": {
      "text/plain": [
       "1.6666666666666667e-05"
      ]
     },
     "execution_count": 338,
     "metadata": {},
     "output_type": "execute_result"
    }
   ],
   "source": [
    "np.average([dia_de_trabalho(f,c,m, lamb) for i in range(1000)])"
   ]
  },
  {
   "cell_type": "markdown",
   "metadata": {},
   "source": [
    "## Letra C"
   ]
  },
  {
   "cell_type": "code",
   "execution_count": 398,
   "metadata": {
    "collapsed": true
   },
   "outputs": [],
   "source": [
    "def TME(f,c,m, lamb ,prec = 1):\n",
    "    FILA = []\n",
    "    TODOS = []\n",
    "    prox_evento = np.random.exponential(prec*lamb)\n",
    "    for i in range(prec*60*12):\n",
    "        if len(FILA) > 0:\n",
    "            for i in range(1-len(FILA), 0):\n",
    "                TODOS[i] += 1\n",
    "            if FILA[0] > 0:\n",
    "                FILA[0] += -1\n",
    "            else:\n",
    "                FILA.pop(0)\n",
    "        if prox_evento < 0:\n",
    "            FILA.append(prec*cliente_espera(f,c,m))\n",
    "            prox_evento = np.random.exponential(prec*lamb)\n",
    "            TODOS.append(0)\n",
    "        else:\n",
    "            prox_evento += -1\n",
    "    while len(FILA) > 0:\n",
    "        if len(FILA) > 0:\n",
    "            for i in range(1-len(FILA), 0):\n",
    "                TODOS[i] += 1\n",
    "            if FILA[0] > 0:\n",
    "                FILA[0] += -1\n",
    "            else:\n",
    "                FILA.pop(0)\n",
    "    return np.average(TODOS)"
   ]
  },
  {
   "cell_type": "code",
   "execution_count": 405,
   "metadata": {},
   "outputs": [
    {
     "data": {
      "text/plain": [
       "5.6529646940652158"
      ]
     },
     "execution_count": 405,
     "metadata": {},
     "output_type": "execute_result"
    }
   ],
   "source": [
    "mi = (np.average([TME(f,c,m, lamb, 60) for i in range(1000)]))/60\n",
    "mi"
   ]
  },
  {
   "cell_type": "code",
   "execution_count": 406,
   "metadata": {},
   "outputs": [
    {
     "data": {
      "text/plain": [
       "4.1519042955650312"
      ]
     },
     "execution_count": 406,
     "metadata": {},
     "output_type": "execute_result"
    }
   ],
   "source": [
    "S = ((np.var([TME(f,c,m, lamb, 60) for i in range(1000)]))**0.5)/60\n",
    "S"
   ]
  },
  {
   "cell_type": "markdown",
   "metadata": {},
   "source": [
    "## Letra D"
   ]
  },
  {
   "cell_type": "code",
   "execution_count": 408,
   "metadata": {},
   "outputs": [
    {
     "data": {
      "text/plain": [
       "13.790697113372676"
      ]
     },
     "execution_count": 408,
     "metadata": {},
     "output_type": "execute_result"
    }
   ],
   "source": [
    "delta = S*1.96 + mi\n",
    "delta"
   ]
  },
  {
   "cell_type": "markdown",
   "metadata": {},
   "source": [
    "## Letra E"
   ]
  },
  {
   "cell_type": "code",
   "execution_count": null,
   "metadata": {
    "collapsed": true
   },
   "outputs": [],
   "source": []
  }
 ],
 "metadata": {
  "kernelspec": {
   "display_name": "Python 3",
   "language": "python",
   "name": "python3"
  },
  "language_info": {
   "codemirror_mode": {
    "name": "ipython",
    "version": 3
   },
   "file_extension": ".py",
   "mimetype": "text/x-python",
   "name": "python",
   "nbconvert_exporter": "python",
   "pygments_lexer": "ipython3",
   "version": "3.6.3"
  }
 },
 "nbformat": 4,
 "nbformat_minor": 2
}
